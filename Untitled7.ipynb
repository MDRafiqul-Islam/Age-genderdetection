{
  "nbformat": 4,
  "nbformat_minor": 0,
  "metadata": {
    "colab": {
      "name": "Untitled7.ipynb",
      "provenance": [],
      "authorship_tag": "ABX9TyMPnR1y7+odac8CBxGAdcyf",
      "include_colab_link": true
    },
    "kernelspec": {
      "name": "python3",
      "display_name": "Python 3"
    },
    "language_info": {
      "name": "python"
    }
  },
  "cells": [
    {
      "cell_type": "markdown",
      "metadata": {
        "id": "view-in-github",
        "colab_type": "text"
      },
      "source": [
        "<a href=\"https://colab.research.google.com/github/MDRafiqul-Islam/Age-genderdetection/blob/main/Untitled7.ipynb\" target=\"_parent\"><img src=\"https://colab.research.google.com/assets/colab-badge.svg\" alt=\"Open In Colab\"/></a>"
      ]
    },
    {
      "cell_type": "code",
      "metadata": {
        "colab": {
          "base_uri": "https://localhost:8080/"
        },
        "id": "ucE_RC8y6Mmj",
        "outputId": "3dc832cd-962d-47ce-db8e-f8c10f08f7f9"
      },
      "source": [
        "!git clone https://github.com/MDRafiqul-Islam/Age-genderdetection.git"
      ],
      "execution_count": 1,
      "outputs": [
        {
          "output_type": "stream",
          "text": [
            "Cloning into 'Age-genderdetection'...\n",
            "remote: Enumerating objects: 9, done.\u001b[K\n",
            "remote: Counting objects: 100% (9/9), done.\u001b[K\n",
            "remote: Compressing objects: 100% (9/9), done.\u001b[K\n",
            "remote: Total 9 (delta 0), reused 0 (delta 0), pack-reused 0\u001b[K\n",
            "Unpacking objects: 100% (9/9), done.\n"
          ],
          "name": "stdout"
        }
      ]
    },
    {
      "cell_type": "code",
      "metadata": {
        "colab": {
          "base_uri": "https://localhost:8080/"
        },
        "id": "gFPUHZvD7AOf",
        "outputId": "3b35380f-3da4-4ef9-9042-5c9e90853deb"
      },
      "source": [
        "%cd Age-genderdetection"
      ],
      "execution_count": 2,
      "outputs": [
        {
          "output_type": "stream",
          "text": [
            "/content/Age-genderdetection\n"
          ],
          "name": "stdout"
        }
      ]
    },
    {
      "cell_type": "code",
      "metadata": {
        "colab": {
          "base_uri": "https://localhost:8080/"
        },
        "id": "taOWazBP8kEg",
        "outputId": "cc026eb8-4392-4032-d676-0239b6d21fe5"
      },
      "source": [
        "!gdown https://drive.google.com/uc?id=1_aDScOvBeBLCn_iv0oxSO8X1ySQpSbIS\n",
        "!unzip modelNweight.zip"
      ],
      "execution_count": 3,
      "outputs": [
        {
          "output_type": "stream",
          "text": [
            "Downloading...\n",
            "From: https://drive.google.com/uc?id=1_aDScOvBeBLCn_iv0oxSO8X1ySQpSbIS\n",
            "To: /content/Age-genderdetection/modelNweight.zip\n",
            "86.2MB [00:00, 152MB/s] \n",
            "Archive:  modelNweight.zip\n",
            "   creating: modelNweight/\n",
            "  inflating: modelNweight/age_deploy.prototxt  \n",
            "  inflating: modelNweight/age_net.caffemodel  \n",
            "  inflating: modelNweight/gender_deploy.prototxt  \n",
            "  inflating: modelNweight/gender_net.caffemodel  \n",
            "  inflating: modelNweight/opencv_face_detector.pbtxt  \n",
            "  inflating: modelNweight/opencv_face_detector_uint8.pb  \n"
          ],
          "name": "stdout"
        }
      ]
    }
  ]
}