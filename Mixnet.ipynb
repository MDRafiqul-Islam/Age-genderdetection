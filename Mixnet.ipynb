{
  "nbformat": 4,
  "nbformat_minor": 0,
  "metadata": {
    "colab": {
      "provenance": [],
      "authorship_tag": "ABX9TyM2/vC/tbALvGHrPgoBGnbR",
      "include_colab_link": true
    },
    "kernelspec": {
      "name": "python3",
      "display_name": "Python 3"
    },
    "language_info": {
      "name": "python"
    }
  },
  "cells": [
    {
      "cell_type": "markdown",
      "metadata": {
        "id": "view-in-github",
        "colab_type": "text"
      },
      "source": [
        "<a href=\"https://colab.research.google.com/github/MDRafiqul-Islam/Age-genderdetection/blob/main/Mixnet.ipynb\" target=\"_parent\"><img src=\"https://colab.research.google.com/assets/colab-badge.svg\" alt=\"Open In Colab\"/></a>"
      ]
    },
    {
      "cell_type": "code",
      "execution_count": 1,
      "metadata": {
        "id": "V5sVk6Kk6elR"
      },
      "outputs": [],
      "source": [
        "from random import randrange, random\n",
        "import random\n",
        "import math"
      ]
    },
    {
      "cell_type": "code",
      "source": [
        "def is_prime(n, k=30):\n",
        "    from random import randint\n",
        "    if n < 2: return False\n",
        "    for p in [2,3,5,7,11,13,17,19,23,29]:\n",
        "        if n % p == 0: return n == p\n",
        "    s, d = 0, n-1\n",
        "    while d % 2 == 0:\n",
        "        s, d = s+1, d//2\n",
        "    for i in range(k):\n",
        "        x = pow(randint(2, n-1), d, n)\n",
        "        if x == 1 or x == n-1: continue\n",
        "        for r in range(1, s):\n",
        "            x = (x * x) % n\n",
        "            if x == 1: return False\n",
        "            if x == n-1: break\n",
        "        else: return False\n",
        "    return True"
      ],
      "metadata": {
        "id": "0uJk9K9a6q7f"
      },
      "execution_count": 2,
      "outputs": []
    },
    {
      "cell_type": "code",
      "source": [
        "def randprime(N=10**8):\n",
        "    p = 1\n",
        "    while not is_prime(p):\n",
        "        p = randrange(N)\n",
        "    return p"
      ],
      "metadata": {
        "id": "D4EhEWx16wWp"
      },
      "execution_count": 3,
      "outputs": []
    },
    {
      "cell_type": "code",
      "source": [
        "print(\"Initializing Phase\")\n",
        "prime1=randprime(2**512)  #replace with 1024 bit prime number \n",
        "prime2=randprime(2**512)  #replace with 1024 bit prime number \n",
        "\n",
        "n=prime1*prime2\n",
        "print('p :')\n",
        "print (prime1)\n",
        "print('q :')\n",
        "print (prime2)\n",
        "print('n :')\n",
        "print (n)\n",
        "\n",
        "Phi=(prime1-1)*(prime2-1)\n",
        "print('phi: ')\n",
        "print (Phi)"
      ],
      "metadata": {
        "colab": {
          "base_uri": "https://localhost:8080/"
        },
        "id": "aVT0Bb1o6zmd",
        "outputId": "4f82c275-d73b-43f1-a920-48a5cd52ac80"
      },
      "execution_count": 4,
      "outputs": [
        {
          "output_type": "stream",
          "name": "stdout",
          "text": [
            "Initializing Phase\n",
            "p :\n",
            "1080347638187873919571254670549592726369018152504136302305098707243900957792551615466617047320943808839676870071213817316998970692292351563584577548452741\n",
            "q :\n",
            "7126621741426771475249584704982814346088476814151816323757500599335807570666495654646527231199978015441260262582181564028994236501605915440248954384764217\n",
            "n :\n",
            "7699228966608765673115232460111976431967354555396327737694976126135358777241127526130141232113654783626246945187064063604623946960837162381644925540306125515906359266545033514331221129499679767225072598947553570499423250539251318302638979311545813191463592227875162335100294775159324252564237389112452368797\n",
            "phi: \n",
            "7699228966608765673115232460111976431967354555396327737694976126135358777241127526130141232113654783626246945187064063604623946960837162381644925540306117308936979651899638693491845597092607309730105942994927507900116670830722859255368866167267292269639311290742508939718948781952130354297233555580519151840\n"
          ]
        }
      ]
    },
    {
      "cell_type": "code",
      "source": [
        "def gcd(a, b):\n",
        "    while b:\n",
        "        a, b = b, a%b\n",
        "    return a"
      ],
      "metadata": {
        "id": "StYlxzBX62lN"
      },
      "execution_count": 5,
      "outputs": []
    },
    {
      "cell_type": "code",
      "source": [
        "def egcd(a, b):\n",
        "    if a == 0:\n",
        "        return (b, 0, 1)\n",
        "    else:\n",
        "        g, y, x = egcd(b % a, a)\n",
        "        return (g, x - (b // a) * y, y)"
      ],
      "metadata": {
        "id": "e4apnXXD66Cq"
      },
      "execution_count": 6,
      "outputs": []
    },
    {
      "cell_type": "code",
      "source": [
        "def modinv(a, m):\n",
        "    g, x, y = egcd(a, m)\n",
        "    if g != 1:\n",
        "        raise Exception('modular inverse not found')\n",
        "    else:\n",
        "        return x % m"
      ],
      "metadata": {
        "id": "6a0pOYtC69Q5"
      },
      "execution_count": 7,
      "outputs": []
    },
    {
      "cell_type": "code",
      "source": [
        "lnumber1 = 2\n",
        "while(True):\n",
        "  p=gcd(lnumber1,Phi)\n",
        "  if p==1:\n",
        "      break\n",
        "  else:\n",
        "      lnumber1=lnumber1+1\n",
        "lnumber2=modinv(lnumber1,Phi)\n",
        "print('e :')\n",
        "print (lnumber1)\n",
        "print('d :')\n",
        "print (lnumber2)"
      ],
      "metadata": {
        "colab": {
          "base_uri": "https://localhost:8080/"
        },
        "id": "aqzgJdsu7Aei",
        "outputId": "0e1aba4a-7204-40e7-a646-23b78a1711a1"
      },
      "execution_count": 8,
      "outputs": [
        {
          "output_type": "stream",
          "name": "stdout",
          "text": [
            "e :\n",
            "7\n",
            "d :\n",
            "2199779704745361620890066417174850409133529872970379353627136036038673936354607864608611780603901366750356270053446875315606841988810617823327121582944604945410565614828468198140527313455030659922887412284265002257176191665920816930105390333504940648468374654497859697062556794843465815513495301594434043383\n"
          ]
        }
      ]
    },
    {
      "cell_type": "code",
      "source": [
        "message=int(input(\"What is your message: \"))\n",
        "\n",
        "r = random.randint(2, 10**60)\n",
        "r1 = random.randint(2, 10**60)\n",
        "print(r)\n",
        "print(r1)"
      ],
      "metadata": {
        "colab": {
          "base_uri": "https://localhost:8080/"
        },
        "id": "23YimWue7DtR",
        "outputId": "bcf3b6ef-d529-4a70-b1f1-89c7a455be64"
      },
      "execution_count": 9,
      "outputs": [
        {
          "output_type": "stream",
          "name": "stdout",
          "text": [
            "What is your message: 1234543\n",
            "517250494369183745391102575008728274396131032730528262567283\n",
            "297123789957872193800793662167849557425240405909042352931283\n"
          ]
        }
      ]
    },
    {
      "cell_type": "code",
      "source": [
        "c = pow(message, lnumber1, n)\n",
        "print(c)\n",
        "c =int(c * r)\n",
        "print(c)"
      ],
      "metadata": {
        "colab": {
          "base_uri": "https://localhost:8080/"
        },
        "id": "s4Eyg7sv7auV",
        "outputId": "192ff8b0-bab7-448a-a706-9fb322d1716a"
      },
      "execution_count": 10,
      "outputs": [
        {
          "output_type": "stream",
          "name": "stdout",
          "text": [
            "4370625036318380363148599668837913277294607\n",
            "2260707960738013904726655955018042160313574498469842709503075523980786267237496251050555271366550542781\n"
          ]
        }
      ]
    },
    {
      "cell_type": "code",
      "source": [
        "lnumber3 = lnumber1 + 1\n",
        "while(True):\n",
        "  p=gcd(lnumber3,Phi)\n",
        "  if p==1:\n",
        "      break\n",
        "  else:\n",
        "      lnumber3=lnumber3+1\n",
        "lnumber4=modinv(lnumber3,Phi)\n",
        "print('e :')\n",
        "print (lnumber3)\n",
        "print('d :')\n",
        "print (lnumber4)"
      ],
      "metadata": {
        "colab": {
          "base_uri": "https://localhost:8080/"
        },
        "id": "pA4elA5e78bh",
        "outputId": "7a949cd0-97e5-4e7a-995e-f38e47171f36"
      },
      "execution_count": 11,
      "outputs": [
        {
          "output_type": "stream",
          "name": "stdout",
          "text": [
            "e :\n",
            "11\n",
            "d :\n",
            "2799719624221369335678266349131627793442674383780482813707264045867403191724046373138233175314056284954998889158932386765317798894849877229689063832838588112340719873418050433997034762579129930810947615634519093781860607574808312456497769515369924461687022287542730523534163193437138310653539474756552418851\n"
          ]
        }
      ]
    },
    {
      "cell_type": "code",
      "source": [
        "c1 = pow(c, lnumber3, n)\n",
        "print(c1)\n",
        "c1 = int(c1 * r1)\n",
        "print(c1)"
      ],
      "metadata": {
        "colab": {
          "base_uri": "https://localhost:8080/"
        },
        "id": "5Bt4kfnU8Rbv",
        "outputId": "3b45b395-3598-4b04-855f-21eeaecb12ef"
      },
      "execution_count": 12,
      "outputs": [
        {
          "output_type": "stream",
          "name": "stdout",
          "text": [
            "38731069493565928773037323997235626255827911279806197588209118654505770008370290762790930329588742644421273078059002683242055788690022096394899962429019552761846216513906173121870861638865798466909958194345268148577501768106537074390852957384325360135330608973326446877184491884961169516898901765746738743\n",
            "11507922157050034382401961307820474020696084344820083414581757251795489554177043212550177245385072104847860620870282665420353043926466147301078818149693208188632853084918245021797398156949955463958352057177085321002331924738774923803853529643039723729374076347942548755609128119645336905571313809589572967642720482164775359526118191543419400060039271376163632797269\n"
          ]
        }
      ]
    },
    {
      "cell_type": "code",
      "source": [
        "c1 = int(c1 // r1)\n",
        "print(c1)"
      ],
      "metadata": {
        "colab": {
          "base_uri": "https://localhost:8080/"
        },
        "id": "afzb-bRX9GEt",
        "outputId": "5eb4a043-8567-4e7c-9391-8af7a728bb96"
      },
      "execution_count": 13,
      "outputs": [
        {
          "output_type": "stream",
          "name": "stdout",
          "text": [
            "38731069493565928773037323997235626255827911279806197588209118654505770008370290762790930329588742644421273078059002683242055788690022096394899962429019552761846216513906173121870861638865798466909958194345268148577501768106537074390852957384325360135330608973326446877184491884961169516898901765746738743\n"
          ]
        }
      ]
    },
    {
      "cell_type": "code",
      "source": [
        "de2 = pow(c1, lnumber4, n)\n",
        "print(de2)"
      ],
      "metadata": {
        "colab": {
          "base_uri": "https://localhost:8080/"
        },
        "id": "uYeGez277ifn",
        "outputId": "11010930-16fb-42d3-d269-500e1e2b0020"
      },
      "execution_count": 14,
      "outputs": [
        {
          "output_type": "stream",
          "name": "stdout",
          "text": [
            "2260707960738013904726655955018042160313574498469842709503075523980786267237496251050555271366550542781\n"
          ]
        }
      ]
    },
    {
      "cell_type": "code",
      "source": [
        "de2 = int(de2 // r)\n",
        "de1 = pow(de2, lnumber2, n)\n",
        "print(de1)"
      ],
      "metadata": {
        "colab": {
          "base_uri": "https://localhost:8080/"
        },
        "id": "liREqTQS9Vz7",
        "outputId": "97c5b86c-7633-43ba-af2b-4c888e0776ef"
      },
      "execution_count": 15,
      "outputs": [
        {
          "output_type": "stream",
          "name": "stdout",
          "text": [
            "1234543\n"
          ]
        }
      ]
    }
  ]
}